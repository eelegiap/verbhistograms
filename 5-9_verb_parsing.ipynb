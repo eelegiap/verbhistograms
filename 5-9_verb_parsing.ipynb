{
 "cells": [
  {
   "cell_type": "markdown",
   "metadata": {},
   "source": [
    "## Using the RNC to look at constructions in certain windows of verbs"
   ]
  },
  {
   "cell_type": "code",
   "execution_count": 1,
   "metadata": {},
   "outputs": [],
   "source": [
    "import random"
   ]
  },
  {
   "cell_type": "code",
   "execution_count": 2,
   "metadata": {},
   "outputs": [
    {
     "data": {
      "text/plain": [
       "98892"
      ]
     },
     "execution_count": 2,
     "metadata": {},
     "output_type": "execute_result"
    }
   ],
   "source": [
    "from corus import load_morphoru_rnc\n",
    "\n",
    "path = 'RNCgoldInUD_Morpho.conll'\n",
    "records = load_morphoru_rnc(path)\n",
    "rnccorpus = []\n",
    "for record in records:\n",
    "    rnccorpus.append(record)\n",
    "len(rnccorpus)"
   ]
  },
  {
   "cell_type": "markdown",
   "metadata": {},
   "source": [
    "## build sentences"
   ]
  },
  {
   "cell_type": "code",
   "execution_count": 12,
   "metadata": {},
   "outputs": [
    {
     "name": "stdout",
     "output_type": "stream",
     "text": [
      "window size of -3 complete...\n",
      "window size of -2 complete...\n",
      "window size of -1 complete...\n",
      "window size of 0 complete...\n",
      "window size of 1 complete...\n",
      "window size of 2 complete...\n",
      "window size of 3 complete...\n"
     ]
    }
   ],
   "source": [
    "def build_sentence(tokens, upperlist=[]):\n",
    "    sentence = ''\n",
    "    for i, token in enumerate(tokens):\n",
    "        if token.pos == 'PUNCT':\n",
    "            space = ''\n",
    "        else:\n",
    "            space = ' '\n",
    "        if i in upperlist:\n",
    "            text = token.text.upper()\n",
    "        else:\n",
    "            text = token.text\n",
    "        if text == None:\n",
    "            text = ''\n",
    "        sentence = sentence + space + text\n",
    "    return sentence.strip()\n",
    "adpdict = {\n",
    "    'в' : 'в/во',\n",
    "    'во' : 'в/во',\n",
    "    'с' : 'с/со',\n",
    "    'со' : 'с/со',\n",
    "    'о' : 'о/об',\n",
    "    'об' : 'о/об',\n",
    "    'обо' : 'о/об'\n",
    "}\n",
    "# sample = random.sample(rnccorpus,1000)\n",
    "# sample = rnccorpus[35557:35558]\n",
    "sample = rnccorpus\n",
    "windowList = []\n",
    "for window in range(-3, 4):\n",
    "    dataDict = dict()\n",
    "    for sent in sample:\n",
    "        currentindex = 0\n",
    "        for token in sent.tokens:\n",
    "            cxfound = False\n",
    "            if token.pos == 'VERB':\n",
    "                verblemma = token.lemma\n",
    "                dataDict.setdefault(verblemma, dict())\n",
    "                dataDict[verblemma].setdefault('counts',dict())\n",
    "                dataDict[verblemma].setdefault('sentences',dict())\n",
    "                \n",
    "                adpindex = currentindex + window\n",
    "                if adpindex >= 0 and adpindex < len(sent.tokens):\n",
    "                    adptoken = sent.tokens[adpindex]\n",
    "                    if adptoken.text != ',' and adptoken.pos == 'PUNCT' and adpindex + 1 >= 0 and adpindex + 1 < len(sent.tokens):\n",
    "                        adpindex = adpindex + 1\n",
    "                    if adptoken.pos == 'ADP':\n",
    "                        adplemma = adptoken.lemma\n",
    "                        # lemmatize prepositions\n",
    "                        if adplemma in adpdict:\n",
    "                            adplemma = adpdict[adplemma]\n",
    "                        caseindex = adpindex + 1\n",
    "                        if caseindex >= 0 and caseindex < len(sent.tokens):\n",
    "                            casetoken = sent.tokens[caseindex]\n",
    "                            if casetoken.pos == 'PUNCT' and caseindex + 1 >= 0 and caseindex + 1 < len(sent.tokens):\n",
    "                                caseindex = caseindex + 1\n",
    "                            casetoken = sent.tokens[caseindex]\n",
    "                            try:\n",
    "                                case = casetoken.feats['Case']\n",
    "                                if case == 'Ins':\n",
    "                                    case = 'Inst'\n",
    "                                adpandcase = adplemma + ' + ' + case.upper()\n",
    "                                cxfound = True    \n",
    "                            except:\n",
    "                                cxfound = False\n",
    "                    elif window == 1 and adptoken.text == ',':\n",
    "                        shtoindex = adpindex + 1\n",
    "                        if shtoindex >= 0 and shtoindex < len(sent.tokens):\n",
    "                            shtotoken = sent.tokens[shtoindex]\n",
    "                            if shtotoken.text == 'что':\n",
    "                                adpandcase = ', что'\n",
    "                                caseindex = shtoindex\n",
    "                                cxfound = True\n",
    "                    else:\n",
    "                        if window in [-1,1]:\n",
    "                            # not an adposition directly before or after verb\n",
    "                            try: \n",
    "                                if adpindex - 1 >= 0:\n",
    "                                    # need to make sure prev token is not adp\n",
    "                                    if sent.tokens[adpindex - 1].pos != 'ADP':\n",
    "                                        case = adptoken.feats['Case']\n",
    "                                        if case == 'Ins':\n",
    "                                            case = 'Inst'\n",
    "                                        adpandcase = case.upper()\n",
    "                                        caseindex = currentindex\n",
    "                                        cxfound = True    \n",
    "                            except:\n",
    "                                # check if infinitive, if so, set caseindex to current index\n",
    "                                if adptoken.pos == 'VERB':\n",
    "                                    if 'VerbForm' in adptoken.feats and (adptoken.feats['VerbForm'] == 'Inf'):\n",
    "                                        adpandcase = 'INFINITIVE'\n",
    "                                        caseindex = currentindex\n",
    "                                        cxfound = True\n",
    "                if cxfound:\n",
    "                    dataDict[verblemma]['counts'].setdefault(adpandcase, 0)\n",
    "                    dataDict[verblemma]['sentences'].setdefault(adpandcase, [])\n",
    "                    dataDict[verblemma]['counts'][adpandcase] += 1\n",
    "                    formattedsent = build_sentence(sent.tokens, [currentindex, adpindex, caseindex])\n",
    "                    if formattedsent not in dataDict[verblemma]['sentences'][adpandcase]:\n",
    "                        dataDict[verblemma]['sentences'][adpandcase].append(formattedsent)\n",
    "            currentindex += 1\n",
    "    print(f'window size of {window} complete...')\n",
    "    windowList.append(dataDict)"
   ]
  },
  {
   "cell_type": "code",
   "execution_count": 13,
   "metadata": {},
   "outputs": [
    {
     "data": {
      "text/plain": [
       "['Я ЗНАЮ, ЧТО с этим делать',\n",
       " 'а если нет- то хотя бы примерно ЗНАТЬ, ЧТО там',\n",
       " 'В общем, я не ЗНАЮ, ЧТО там, и не знаю, будешь ли ты их кому то- то передавать дальше- но не говори о том что это сделал я, особенно моей группе.']"
      ]
     },
     "execution_count": 13,
     "metadata": {},
     "output_type": "execute_result"
    }
   ],
   "source": [
    "windowList[4]['знать']['sentences'][', что'][:3]"
   ]
  },
  {
   "cell_type": "code",
   "execution_count": 14,
   "metadata": {},
   "outputs": [
    {
     "name": "stdout",
     "output_type": "stream",
     "text": [
      "5898\n"
     ]
    }
   ],
   "source": [
    "# removing uncommon verbs (<5 occurrences)\n",
    "uncommonVerbs = set()\n",
    "totalcount = dict()\n",
    "for windowDict in windowList:\n",
    "    for verb in windowDict:\n",
    "        totalcount.setdefault(verb,0)\n",
    "        for cx in windowDict[verb]['counts']:\n",
    "            totalcount[verb] += windowDict[verb]['counts'][cx]\n",
    "for verb in totalcount:\n",
    "    if totalcount[verb] < 5:\n",
    "        uncommonVerbs.add(verb)\n",
    "print(len(uncommonVerbs))"
   ]
  },
  {
   "cell_type": "code",
   "execution_count": 75,
   "metadata": {},
   "outputs": [],
   "source": [
    "for verbtoremove in uncommonVerbs:\n",
    "    for windowDict in windowList:\n",
    "        try:\n",
    "            del windowDict[verbtoremove]\n",
    "        except:\n",
    "            False"
   ]
  },
  {
   "cell_type": "code",
   "execution_count": 76,
   "metadata": {},
   "outputs": [
    {
     "data": {
      "text/plain": [
       "3410"
      ]
     },
     "execution_count": 76,
     "metadata": {},
     "output_type": "execute_result"
    }
   ],
   "source": [
    "len(windowList[1])"
   ]
  },
  {
   "cell_type": "markdown",
   "metadata": {},
   "source": [
    "## for csv"
   ]
  },
  {
   "cell_type": "code",
   "execution_count": 77,
   "metadata": {},
   "outputs": [],
   "source": [
    "allcxlabels = set()\n",
    "for windowDict in windowList:\n",
    "    for verb in windowDict:\n",
    "        countdict = windowDict[verb]['counts']\n",
    "        for cxlabel in countdict:\n",
    "            allcxlabels.add(cxlabel)\n",
    "allcxlabels = list(allcxlabels)"
   ]
  },
  {
   "cell_type": "code",
   "execution_count": 78,
   "metadata": {},
   "outputs": [],
   "source": [
    "# getting rid of cxx with count < 10 occurrences across verbs\n",
    "totalcxcounts = dict()\n",
    "for windowDict in windowList:\n",
    "    for verb in windowDict:\n",
    "        countdict = windowDict[verb]['counts']\n",
    "        for cx in countdict:\n",
    "            totalcxcounts.setdefault(cx, 0)\n",
    "            totalcxcounts[cx] += 1\n",
    "lst = []\n",
    "for cx in totalcxcounts:\n",
    "    lst.append((totalcxcounts[cx],cx))\n",
    "i = 0\n",
    "greaterthan10cx = []\n",
    "for ct, cx in lst:\n",
    "    if ct > 10:\n",
    "        greaterthan10cx.append(cx)"
   ]
  },
  {
   "cell_type": "code",
   "execution_count": 79,
   "metadata": {},
   "outputs": [],
   "source": [
    "# verb, windowsize, prep1, prep2, prep3, prep4, prep5...\n",
    "rows = []\n",
    "cxused = greaterthan10cx\n",
    "for windowIndex, windowDict in enumerate(windowList):\n",
    "    windowSize = windowIndex - 3\n",
    "    for verb in windowDict:\n",
    "        countdict = windowDict[verb]['counts']\n",
    "        csvline = [verb, windowSize]\n",
    "        for cxlabel in cxused:\n",
    "            if cxlabel in countdict:\n",
    "                count = countdict[cxlabel]\n",
    "            else:\n",
    "                count = 0\n",
    "            csvline.append(count)\n",
    "        rows.append(csvline)"
   ]
  },
  {
   "cell_type": "code",
   "execution_count": 80,
   "metadata": {},
   "outputs": [
    {
     "name": "stdout",
     "output_type": "stream",
     "text": [
      "['усвоить', 1, 0, 0, 0, 0, 0, 0, 0, 0, 0, 0, 0, 0, 0, 0, 0, 0, 0, 0, 0, 0, 0, 0, 0, 0, 0, 0, 0, 0, 0, 0, 0, 0, 0, 0, 0, 0, 0, 0, 0, 0, 0, 0, 0, 0, 0, 0, 0, 0, 0, 0, 0, 0, 0, 0, 0, 0, 0, 0, 0, 0, 0, 0, 0, 1, 0, 0, 5, 0, 0, 0, 2]\n"
     ]
    }
   ],
   "source": [
    "r = random.choice(rows)\n",
    "print(r)"
   ]
  },
  {
   "cell_type": "code",
   "execution_count": 81,
   "metadata": {},
   "outputs": [],
   "source": [
    "fields = ['Verb','WindowSize']\n",
    "\n",
    "for cxlabel in greaterthan10cx:\n",
    "    fields.append(cxlabel)"
   ]
  },
  {
   "cell_type": "code",
   "execution_count": 62,
   "metadata": {},
   "outputs": [],
   "source": [
    "import csv\n",
    "# writing to csv file \n",
    "filename = '8-16-21csvdata.csv'\n",
    "with open(filename, 'w') as csvfile: \n",
    "    # creating a csv writer object \n",
    "    csvwriter = csv.writer(csvfile) \n",
    "        \n",
    "    # writing the fields \n",
    "    csvwriter.writerow(fields) \n",
    "        \n",
    "    # writing the data rows \n",
    "    csvwriter.writerows(rows)"
   ]
  },
  {
   "cell_type": "code",
   "execution_count": 64,
   "metadata": {},
   "outputs": [
    {
     "data": {
      "text/plain": [
       "'/Users/paigelee/Desktop/spring2021/clancy/verbhistograms'"
      ]
     },
     "execution_count": 64,
     "metadata": {},
     "output_type": "execute_result"
    }
   ],
   "source": [
    "pwd"
   ]
  },
  {
   "cell_type": "code",
   "execution_count": 82,
   "metadata": {},
   "outputs": [],
   "source": [
    "sentenceDict = dict()\n",
    "windowSize = -3\n",
    "for windowDict in windowList:\n",
    "    sentenceDict[windowSize] = dict()\n",
    "    for verb in windowDict:\n",
    "        sentenceDict[windowSize][verb] = dict()\n",
    "        for cx in windowDict[verb]['sentences']:\n",
    "            sentenceDict[windowSize][verb][cx] = windowDict[verb]['sentences'][cx][:10]\n",
    "    windowSize += 1"
   ]
  },
  {
   "cell_type": "code",
   "execution_count": 83,
   "metadata": {},
   "outputs": [
    {
     "name": "stdout",
     "output_type": "stream",
     "text": [
      "154787\n"
     ]
    }
   ],
   "source": [
    "totalsents = 0\n",
    "for windowDict in windowList:\n",
    "    for verb in windowDict:\n",
    "        for prep in windowDict[verb]['sentences']:\n",
    "            totalsents += len(windowDict[verb]['sentences'][prep])\n",
    "print(totalsents)"
   ]
  },
  {
   "cell_type": "code",
   "execution_count": 84,
   "metadata": {},
   "outputs": [],
   "source": [
    "verbDict = dict()\n",
    "\n",
    "for windowDict in windowList:\n",
    "    for verb in windowDict:\n",
    "        verbDict[verb] = dict()\n",
    "windowSize = -3\n",
    "for windowDict in windowList:\n",
    "    for verb in windowDict:\n",
    "        verbDict[verb][windowSize] = dict()\n",
    "        for cx in windowDict[verb]['sentences']:\n",
    "            verbDict[verb][windowSize][cx] = list()\n",
    "            for sent in windowDict[verb]['sentences'][cx]:\n",
    "                verbDict[verb][windowSize][cx].append(sent)\n",
    "    windowSize += 1"
   ]
  },
  {
   "cell_type": "code",
   "execution_count": 85,
   "metadata": {},
   "outputs": [],
   "source": [
    "import json\n",
    "for verb in verbDict:\n",
    "    with open(f'sentdata8/{verb}.json', 'w', encoding='utf8') as jsonfile:\n",
    "        json.dump(verbDict[verb], jsonfile, ensure_ascii=False)"
   ]
  },
  {
   "cell_type": "markdown",
   "metadata": {},
   "source": [
    "# get most common constructions"
   ]
  },
  {
   "cell_type": "code",
   "execution_count": 95,
   "metadata": {},
   "outputs": [
    {
     "name": "stdout",
     "output_type": "stream",
     "text": [
      "0/98892 sentences parsed...\n",
      "10000/98892 sentences parsed...\n",
      "20000/98892 sentences parsed...\n",
      "30000/98892 sentences parsed...\n",
      "40000/98892 sentences parsed...\n",
      "50000/98892 sentences parsed...\n",
      "60000/98892 sentences parsed...\n",
      "70000/98892 sentences parsed...\n",
      "80000/98892 sentences parsed...\n",
      "90000/98892 sentences parsed...\n"
     ]
    }
   ],
   "source": [
    "def build_sentence(tokens, upperlist):\n",
    "    sentence = ''\n",
    "    for i, token in enumerate(tokens):\n",
    "        if token.pos == 'PUNCT':\n",
    "            space = ''\n",
    "        else:\n",
    "            space = ' '\n",
    "        if i in upperlist:\n",
    "            text = token.text.upper()\n",
    "        else:\n",
    "            text = token.text\n",
    "        if text == None:\n",
    "            text = ''\n",
    "        sentence = sentence + space + text\n",
    "    return sentence.strip()\n",
    "adpdict = {\n",
    "    'в' : 'в/во',\n",
    "    'во' : 'в/во',\n",
    "    'с' : 'с/со',\n",
    "    'со' : 'с/со',\n",
    "    'о' : 'о/об',\n",
    "    'об' : 'о/об',\n",
    "    'обо' : 'о/об'\n",
    "}\n",
    "# sample = random.sample(rnccorpus,1000)\n",
    "# sample = rnccorpus[35557:35558]\n",
    "sample = rnccorpus\n",
    "\n",
    "orderedDict = dict()\n",
    "wordDict = dict()\n",
    "commonDict = dict()\n",
    "for i, sent in enumerate(sample):\n",
    "    if i % 10000 == 0:\n",
    "        print(f'{i}/{len(sample)} sentences parsed...')\n",
    "    currentindex = 0\n",
    "    for token in sent.tokens:\n",
    "        # for each verb found\n",
    "        if token.pos == 'VERB':\n",
    "            verblemma = token.lemma\n",
    "            orderedDict.setdefault(verblemma, dict())\n",
    "            wordDict.setdefault(verblemma, dict())\n",
    "            commonDict.setdefault(verblemma, dict())\n",
    "            allcxx = []\n",
    "            before = []\n",
    "            after = []\n",
    "            for window in range(-3,4):\n",
    "                cxfound = False\n",
    "                adpindex = currentindex + window\n",
    "                \n",
    "                if adpindex >= 0 and adpindex < len(sent.tokens):\n",
    "                    adptoken = sent.tokens[adpindex]\n",
    "                    try:\n",
    "                        if window != 0:\n",
    "                            wordtoken = adptoken.text.lower()\n",
    "                            wordDict[verblemma].setdefault(wordtoken, dict())\n",
    "                            wordDict[verblemma][wordtoken].setdefault('counts',0)\n",
    "                            wordDict[verblemma][wordtoken].setdefault('sentences',[])\n",
    "                            wordDict[verblemma][wordtoken]['counts'] += 1\n",
    "                            wordDict[verblemma][wordtoken]['sentences'].append(build_sentence(sent.tokens, [currentindex, adpindex]))\n",
    "                    except:\n",
    "                        False\n",
    "                    if adptoken.text != ',' and adptoken.pos == 'PUNCT' and adpindex + 1 >= 0 and adpindex + 1 < len(sent.tokens):\n",
    "                        adpindex = adpindex + 1\n",
    "                    if adptoken.pos == 'ADP':\n",
    "                        adplemma = adptoken.lemma\n",
    "                        # lemmatize prepositions\n",
    "                        if adplemma in adpdict:\n",
    "                            adplemma = adpdict[adplemma]\n",
    "                        caseindex = adpindex + 1\n",
    "                        if caseindex >= 0 and caseindex < len(sent.tokens):\n",
    "                            casetoken = sent.tokens[caseindex]\n",
    "                            if casetoken.pos == 'PUNCT' and caseindex + 1 >= 0 and caseindex + 1 < len(sent.tokens):\n",
    "                                caseindex = caseindex + 1\n",
    "                            casetoken = sent.tokens[caseindex]\n",
    "                            try:\n",
    "                                case = casetoken.feats['Case']\n",
    "                                if case == 'Ins':\n",
    "                                    case = 'Inst'\n",
    "                                adpandcase = adplemma + ' + ' + case.upper()\n",
    "                                cxfound = True    \n",
    "                            except:\n",
    "                                cxfound = False\n",
    "                    elif window == 1 and adptoken.text == ',':\n",
    "                        shtoindex = adpindex + 1\n",
    "                        if shtoindex >= 0 and shtoindex < len(sent.tokens):\n",
    "                            shtotoken = sent.tokens[shtoindex]\n",
    "                            if shtotoken.text == 'что':\n",
    "                                adpandcase = '[ , что ]'\n",
    "                                caseindex = shtoindex\n",
    "                                cxfound = True\n",
    "                    else:\n",
    "                        if window in [-1,1]:\n",
    "                            # not an adposition directly before or after verb\n",
    "                            try: \n",
    "                                if adpindex >= 0:\n",
    "                                    # need to make sure prev token is not adp\n",
    "                                    if sent.tokens[adpindex - 1].pos != 'ADP':\n",
    "                                        case = adptoken.feats['Case']\n",
    "                                        if case == 'Ins':\n",
    "                                            case = 'Inst'\n",
    "                                        adpandcase = case.upper()\n",
    "                                        caseindex = currentindex\n",
    "                                        cxfound = True\n",
    "                            except:\n",
    "                                # check if infinitive, if so, set caseindex to current index\n",
    "                                if adptoken.pos == 'VERB':\n",
    "                                    if 'VerbForm' in adptoken.feats and (adptoken.feats['VerbForm'] == 'Inf'):\n",
    "                                        adpandcase = 'INFINITIVE'\n",
    "                                        caseindex = currentindex\n",
    "                                        cxfound = True\n",
    "                \n",
    "                if cxfound:\n",
    "                    allcxx.append((adpandcase,adpindex,caseindex))\n",
    "                    if window < 0:\n",
    "                        before.append((adpandcase, adpindex, caseindex))\n",
    "                    else:\n",
    "                        after.append((adpandcase, adpindex, caseindex))\n",
    "                    orderedcx = ''\n",
    "                    allindices = [currentindex]\n",
    "                    if before != []:\n",
    "                        for cx, adpindex, caseindex in before:\n",
    "                            if '+' in cx:\n",
    "                                cx = '[ '+cx+' ]'\n",
    "                            orderedcx = orderedcx + cx + ' + '\n",
    "                            allindices.append(adpindex)\n",
    "                            allindices.append(caseindex)\n",
    "                    orderedcx = orderedcx + verblemma\n",
    "                    if after != []:\n",
    "                        for i, (cx, adpindex, caseindex) in enumerate(after):\n",
    "                            if '+' in cx:\n",
    "                                cx = '[ '+cx+' ]'\n",
    "                            if i == 0:\n",
    "                                orderedcx = orderedcx + ' + ' + cx\n",
    "                            else:\n",
    "                                orderedcx = orderedcx + ' / ' + cx\n",
    "                            allindices.append(adpindex)\n",
    "                            allindices.append(caseindex)\n",
    "\n",
    "                    orderedDict[verblemma].setdefault(orderedcx, dict())\n",
    "                    orderedDict[verblemma][orderedcx].setdefault('counts',0)\n",
    "                    orderedDict[verblemma][orderedcx].setdefault('sentences',set())\n",
    "                    orderedDict[verblemma][orderedcx]['counts'] += 1\n",
    "                    orderedDict[verblemma][orderedcx]['sentences'].add(build_sentence(sent.tokens, allindices))\n",
    "                \n",
    "                    for (cx, adpindex, caseindex) in allcxx:\n",
    "                        if '+' in cx:\n",
    "                            cx = '[ '+cx+' ]'\n",
    "                        commonDict[verblemma].setdefault(cx, dict())\n",
    "                        commonDict[verblemma][cx].setdefault('counts',0)\n",
    "                        commonDict[verblemma][cx].setdefault('sentences',set())\n",
    "                        commonDict[verblemma][cx]['counts'] += 1\n",
    "                        commonDict[verblemma][cx]['sentences'].add(build_sentence(sent.tokens, [currentindex, adpindex, caseindex]))\n",
    "        currentindex += 1"
   ]
  },
  {
   "cell_type": "code",
   "execution_count": 66,
   "metadata": {},
   "outputs": [
    {
     "name": "stderr",
     "output_type": "stream",
     "text": [
      "[nltk_data] Downloading package stopwords to\n",
      "[nltk_data]     /Users/paigelee/nltk_data...\n",
      "[nltk_data]   Package stopwords is already up-to-date!\n"
     ]
    }
   ],
   "source": [
    "import nltk\n",
    "nltk.download(\"stopwords\")\n",
    "from nltk.corpus import stopwords\n",
    "russian_stopwords = stopwords.words(\"russian\")\n",
    "print(russian_stopwords[:5])"
   ]
  },
  {
   "cell_type": "code",
   "execution_count": 103,
   "metadata": {},
   "outputs": [],
   "source": [
    "# get highest numbered things / critical number\n",
    "jsonDict = dict()\n",
    "for verb in commonDict:\n",
    "    if verb in uncommonVerbs:\n",
    "        continue\n",
    "    jsonDict.setdefault(verb, dict())\n",
    "    # commonDict\n",
    "    cxlist = []\n",
    "    for cx in commonDict[verb]:\n",
    "        cxlist.append((commonDict[verb][cx]['counts'], cx))\n",
    "    sortedlst = sorted(cxlist, reverse=True)\n",
    "    newcx = verb\n",
    "    for ct, cx in sortedlst[:3]:\n",
    "        if ct < 5:\n",
    "            continue\n",
    "        if cx == 'NOM':\n",
    "            newcx = cx + ' + ' + newcx\n",
    "        else:\n",
    "            newcx = newcx + ' + ' + cx\n",
    "    if 'NOM' not in newcx:\n",
    "        if 'NOM' in [cx for ct, cx in sortedlst[:5]]:\n",
    "            newcx = 'NOM + ' + newcx\n",
    "    jsonDict[verb]['aggregate'] = newcx\n",
    "    \n",
    "    # top words\n",
    "    wordlst = []\n",
    "    for word in wordDict[verb]:\n",
    "        if word.isalpha() and word not in russian_stopwords:\n",
    "            count = wordDict[verb][word]['counts']\n",
    "            if count > 4:\n",
    "                wordlst.append((count, word))\n",
    "    sortedwordlst = sorted(wordlst, reverse=True)\n",
    "    jsonDict[verb]['relatedwords'] = sortedwordlst[:20]\n",
    "    \n",
    "    # top cxx\n",
    "    cxlst = []\n",
    "    for cx in orderedDict[verb]:\n",
    "        if cx == 'NOM + ' + verb:\n",
    "            continue\n",
    "        count = orderedDict[verb][cx]['counts']\n",
    "        if count < 5:\n",
    "            continue\n",
    "        cxlst.append((count, cx))\n",
    "    sortedcxlst = sorted(cxlst, reverse=True)\n",
    "    cxxlist = [cx for cx in sortedcxlst if ' ' in cx[1]]\n",
    "    jsonDict[verb]['separated'] = sortedcxlst[:3]\n",
    "    \n",
    "jsonList = [jsonDict]"
   ]
  },
  {
   "cell_type": "code",
   "execution_count": 106,
   "metadata": {},
   "outputs": [],
   "source": [
    "import json\n",
    "with open(f'common_constructions_8-17.json', 'w', encoding='utf8') as jsonfile:\n",
    "    json.dump(jsonList, jsonfile, ensure_ascii=False)"
   ]
  },
  {
   "cell_type": "code",
   "execution_count": null,
   "metadata": {},
   "outputs": [],
   "source": []
  }
 ],
 "metadata": {
  "kernelspec": {
   "display_name": "Python 3",
   "language": "python",
   "name": "python3"
  },
  "language_info": {
   "codemirror_mode": {
    "name": "ipython",
    "version": 3
   },
   "file_extension": ".py",
   "mimetype": "text/x-python",
   "name": "python",
   "nbconvert_exporter": "python",
   "pygments_lexer": "ipython3",
   "version": "3.7.3"
  }
 },
 "nbformat": 4,
 "nbformat_minor": 2
}
